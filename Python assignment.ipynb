{
 "cells": [
  {
   "cell_type": "markdown",
   "id": "a60cadb2",
   "metadata": {},
   "source": [
    "## Here's the start of our Python script. Thanks for completing it for me! - Dr. X\n",
    "## IMPORTANT: install BioPython so that this will work"
   ]
  },
  {
   "cell_type": "code",
   "execution_count": 1,
   "id": "046dfc9c",
   "metadata": {},
   "outputs": [],
   "source": [
    "from Bio import SeqIO\n",
    "from Bio.Data import CodonTable\n",
    "import pandas as pd"
   ]
  },
  {
   "cell_type": "markdown",
   "id": "6491d13a",
   "metadata": {},
   "source": [
    "## 1 ##\n",
    "## Dr. X: this gets sequences \n",
    "## Please finish documenting this function with comments, or in notebook markdown text\n",
    "## Your descriptions of all functions should contain information about what the function does,\n",
    "## as well as information about the return types and arguments."
   ]
  },
  {
   "cell_type": "code",
   "execution_count": 3,
   "id": "994dfea6",
   "metadata": {},
   "outputs": [],
   "source": [
    "def get_sequences_from_file(fasta_fn):\n",
    "    sequence_data_dict = {}\n",
    "    for record in SeqIO.parse(fasta_fn, \"fasta\"):\n",
    "        description = record.description.split()\n",
    "        species_name = description[1] + \" \" + description[2]\n",
    "        sequence_data_dict[species_name] = record.seq\n",
    "    return(sequence_data_dict)"
   ]
  },
  {
   "cell_type": "markdown",
   "id": "003750c2",
   "metadata": {},
   "source": [
    "## 2 ##\n",
    "####### YOUR STRING-TRANSLATE FUNCTION ########\n",
    "## Write a function that translates sequences\n",
    "## All sequences start at codon position 1\n",
    "## Complete a function that translates using a loop over the string of nucleotides\n",
    "## Here is  some pseudo-code and suggestions\n",
    "## feel free to change the function and variable names"
   ]
  },
  {
   "cell_type": "code",
   "execution_count": null,
   "id": "04861260",
   "metadata": {},
   "outputs": [],
   "source": [
    "def translate_function(string_nucleotides): \n",
    "     mito_table = CodonTable.unambiguous_dna_by_name[\"Vertebrate Mitochondrial\"] # this should work using BioPython (be sure to check what this returns)\n",
    "     for-loop through every 3rd position in string_nucleotides to get the codon using range subsets\n",
    "         # IMPORTANT: if the sequence has a stop codon at the end, you should leave it off\n",
    "         # this is how you can retrieve the amino acid: mito_table.forward_table[codon]\n",
    "         add the aa to aa_seq_string\n",
    "     return(aa_seq_string)"
   ]
  },
  {
   "cell_type": "markdown",
   "id": "92c4baa9",
   "metadata": {},
   "source": [
    "## 3 ##\n",
    "####### YOUR ALTERNATIVE FUNCTION ########\n",
    "## Is there a better way to write the translation function? (Hint: yes there is.) \n",
    "## Perhaps using available BioPython library utilities?\n",
    "## Please also write this function."
   ]
  },
  {
   "cell_type": "code",
   "execution_count": null,
   "id": "4bb96f63",
   "metadata": {},
   "outputs": [],
   "source": []
  },
  {
   "cell_type": "markdown",
   "id": "e6ed3578",
   "metadata": {},
   "source": [
    "## 4 ##\n",
    "####### YOUR COUNT AA ANALYSIS FUNCTION ########\n",
    "## Write a function that calculates the molecular weight of each amino acid sequence.\n",
    "## For this, you can use some BioPython functions. I think you can use the ProtParam module.\n",
    "## For more info, check this out: http://biopython.org/wiki/ProtParam\n",
    "## So you should import the following before defining your function:"
   ]
  },
  {
   "cell_type": "code",
   "execution_count": null,
   "id": "e6eb0817",
   "metadata": {},
   "outputs": [],
   "source": [
    "from Bio.SeqUtils.ProtParam import ProteinAnalysis\n",
    "# def compute_molecular_weight(aa_seq):\n",
    "#     # I think the ProtParam functions may require aa_seq to be a string.\n",
    "#     # It may not work if the amino acid sequence has stop codons.\n",
    "#     run the ProteinAnalysis() function on aa_seq\n",
    "#\t  return the molecular weight"
   ]
  },
  {
   "cell_type": "markdown",
   "id": "52744f08",
   "metadata": {},
   "source": [
    "## 5 ##\n",
    "####### YOUR GC CONTENT ANALYSIS FUNCTION ########\n",
    "## Write a function that calculates the GC-content (proportion of \"G\" and \"C\") of each DNA sequence and returns this value.\n",
    "\n",
    "\n"
   ]
  },
  {
   "cell_type": "code",
   "execution_count": null,
   "id": "cec2ffb7",
   "metadata": {},
   "outputs": [],
   "source": []
  },
  {
   "cell_type": "code",
   "execution_count": null,
   "id": "193ccf90",
   "metadata": {},
   "outputs": [],
   "source": [
    "cytb_seqs = get_sequences_from_file(\"bears_cytb.fasta\") \n",
    "\n",
    "bears_df = pd.read_csv(\"bears_mass.csv\") # Includes only data for body mass \n",
    "species_list = list(bears_df.species)\n"
   ]
  },
  {
   "cell_type": "markdown",
   "id": "4a7fbd8c",
   "metadata": {},
   "source": [
    "## 6 ## \n",
    "## Add two new columns to the bears DataFrame: (1) molecular weight and (2) GC content.\n",
    "## Set the value to 'NaN' to indicate that these cells are currently empty."
   ]
  },
  {
   "cell_type": "code",
   "execution_count": null,
   "id": "e33ba35d",
   "metadata": {},
   "outputs": [],
   "source": []
  },
  {
   "cell_type": "markdown",
   "id": "5e48a12a",
   "metadata": {},
   "source": [
    "## 7 ##\n",
    "## Write a for-loop that translates each sequence and also gets molecular weight and computes the GC content\n",
    "## of each translated sequence and adds those data to DataFrame"
   ]
  },
  {
   "cell_type": "code",
   "execution_count": null,
   "id": "5e08334f",
   "metadata": {},
   "outputs": [],
   "source": [
    "\n",
    "# for key, value in cytb_seqs.items():\n",
    "#     aa_seq = nuc2aa_translate_function(value) # whichever function you prefer of #2 or #3\n",
    "#     get the molecular weight of aa_seq\n",
    "#     get the GC content of the DNA sequence\n",
    "#     fill in empty cells in DF that you created above"
   ]
  },
  {
   "cell_type": "markdown",
   "id": "466d8336",
   "metadata": {},
   "source": [
    "## 8 ##\n",
    "## Plot a bar-chart of the mass with the x-axes labeled with species names.\n",
    "## *Q1* What is the largest bear species? \n",
    "## *Q2* What else is interesting about this species?\n"
   ]
  },
  {
   "cell_type": "code",
   "execution_count": null,
   "id": "41fb3506",
   "metadata": {},
   "outputs": [],
   "source": []
  },
  {
   "cell_type": "markdown",
   "id": "4e8e1d70",
   "metadata": {},
   "source": [
    "## 9 ##\n",
    "## Plot a visualization of the molecular weight (y-axis) as a function of GC-content (x-axis).\n"
   ]
  },
  {
   "cell_type": "code",
   "execution_count": null,
   "id": "1bbebb30",
   "metadata": {},
   "outputs": [],
   "source": []
  },
  {
   "cell_type": "markdown",
   "id": "546bf379",
   "metadata": {},
   "source": [
    "## 10 ##\n",
    "## Save the new DataFrame to a file called \"bears_mass_cytb.csv\""
   ]
  },
  {
   "cell_type": "code",
   "execution_count": null,
   "id": "d9529e54",
   "metadata": {},
   "outputs": [],
   "source": []
  },
  {
   "cell_type": "markdown",
   "id": "1f933fcf",
   "metadata": {},
   "source": [
    "## 11 - BONUS ##\n",
    "## What else can we do with this dataset in Python? \n",
    "## Add functions or anything that might be interesting and fun. (optional)"
   ]
  },
  {
   "cell_type": "code",
   "execution_count": null,
   "id": "69bd17a6",
   "metadata": {},
   "outputs": [],
   "source": []
  }
 ],
 "metadata": {
  "kernelspec": {
   "display_name": "Python 3",
   "language": "python",
   "name": "python3"
  },
  "language_info": {
   "codemirror_mode": {
    "name": "ipython",
    "version": 3
   },
   "file_extension": ".py",
   "mimetype": "text/x-python",
   "name": "python",
   "nbconvert_exporter": "python",
   "pygments_lexer": "ipython3",
   "version": "3.8.8"
  }
 },
 "nbformat": 4,
 "nbformat_minor": 5
}

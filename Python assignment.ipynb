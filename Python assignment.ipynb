{
 "cells": [
  {
   "cell_type": "markdown",
   "id": "a571ab9e",
   "metadata": {},
   "source": [
    "# Here's the start of our Python script. Hi Dr. X, I've finished my parts of Python script. Please see the following.\n",
    "\n"
   ]
  },
  {
   "cell_type": "code",
   "execution_count": 1,
   "id": "d44de3ef",
   "metadata": {},
   "outputs": [],
   "source": [
    "from Bio import SeqIO\n",
    "from Bio.Data import CodonTable\n",
    "import pandas as pd"
   ]
  },
  {
   "cell_type": "markdown",
   "id": "926fa159",
   "metadata": {},
   "source": [
    "## 1 \n",
    "\n",
    "* Define a `get_sequence_from_file` function.\n",
    "* `sequence_data_dict` is a blank dictionary.\n",
    "* Using a `for` loop to do the each record spliting from the inpute one by one by runing `parese` function of SeqIO for the input, the fasta sequence of `fasta_fn` data. \n",
    "* `description` is a list that includes the results of `description.split` function on the record.\n",
    "* `species_name` is the combination of the 2nd and 3rd elements of `description`.\n",
    "* Adding the `species_name` item as key in `sequence_data_dict`, and the result of `seq` function on the record is the values .\n",
    "* Finally, display`sequence_data_dict`by the `return` function. "
   ]
  },
  {
   "cell_type": "code",
   "execution_count": 2,
   "id": "3337bcf8",
   "metadata": {},
   "outputs": [],
   "source": [
    "def get_sequences_from_file(fasta_fn):\n",
    "    sequence_data_dict = {}\n",
    "    for record in SeqIO.parse(fasta_fn, \"fasta\"):\n",
    "        description = record.description.split()\n",
    "        species_name = description[1] + \" \" + description[2]\n",
    "        sequence_data_dict[species_name] = record.seq\n",
    "    return(sequence_data_dict)"
   ]
  },
  {
   "cell_type": "markdown",
   "id": "bca032e9",
   "metadata": {},
   "source": [
    "### Check `get_sequence_from_file` function"
   ]
  },
  {
   "cell_type": "code",
   "execution_count": 3,
   "id": "a79bb250",
   "metadata": {},
   "outputs": [
    {
     "data": {
      "text/plain": [
       "{'Ursus spelaeus': Seq('ATGACCAACATCCGAAAAACCCATCCATTAGCTAAAATCATCAACAACTCATTT...AGA'),\n",
       " 'Ursus arctos': Seq('ATGACCAACATCCGAAAAACCCACCCATTAGCTAAAATCATCAACAACTCACTT...AGA'),\n",
       " 'Ursus thibetanus': Seq('ATGACCAACATCCGAAAAACCCATCCATTAGCCAAAATCATCAACAACTCACTC...AGA'),\n",
       " 'Melursus ursinus': Seq('ATGACCAACATCCGAAAAACCCACCCATTAGCTAAAATCATTAACAACTCACTC...AGA'),\n",
       " 'Ursus americanus': Seq('ATGACCAACATCCGAAAAACCCACCCATTAGCTAAAATCATCAACAACTCACTT...AGA'),\n",
       " 'Helarctos malayanus': Seq('ATGACCAACATCCGAAAAACCCACCCATTAGCTAAAATCATTAACAACTCACTT...AGA'),\n",
       " 'Ailuropoda melanoleuca': Seq('ATGATCAACATCCGAAAAACTCATCCATTAGTTAAAATTATCAACAACTCATTC...AGA'),\n",
       " 'Tremarctos ornatus': Seq('ATGACCAACATCCGAAAAACTCACCCACTAGCTAAAATCATCAACAGCTCATTC...AGA'),\n",
       " 'Ursus maritimus': Seq('ATGACCAACATCCGAAAAACCCACCCATTAGCTAAAATCATCAACAACTCATTT...AGA')}"
      ]
     },
     "execution_count": 3,
     "metadata": {},
     "output_type": "execute_result"
    }
   ],
   "source": [
    "get_sequences_from_file(\"bears_cytb.fasta\")"
   ]
  },
  {
   "cell_type": "markdown",
   "id": "f4d46552",
   "metadata": {},
   "source": [
    "# 2 \n",
    "\n",
    "1. Define `translate_dna` function.\n",
    "2. Using a for loop to read codens from 0 to every 3rd position.\n",
    "3. Read the every 3 continueous nucleic acid as a `coden`.\n",
    "4. If the `coden` is not the stop codens in the mito_table, adding new amino acid to the aa_seq_string.\n",
    "5. `else` the loop would stop when it comes to the stop coden.\n",
    "6. `return` the `aa_seq_string` object."
   ]
  },
  {
   "cell_type": "code",
   "execution_count": 4,
   "id": "20607b63",
   "metadata": {},
   "outputs": [],
   "source": [
    "def translate_dna(string_nucleotides):\n",
    "    mito_table = CodonTable.unambiguous_dna_by_name[\"Vertebrate Mitochondrial\"] \n",
    "    aa = \"\"\n",
    "    aa_seq_string = \"\"\n",
    "    for i in range(0,len(string_nucleotides),3): \n",
    "        coden = string_nucleotides[i:i+3] \n",
    "        if coden not in mito_table.stop_codons: \n",
    "            aa = mito_table.forward_table[coden] \n",
    "            aa_seq_string += aa \n",
    "        else: \n",
    "            return(aa_seq_string)"
   ]
  },
  {
   "cell_type": "code",
   "execution_count": 5,
   "id": "59bbf7bd",
   "metadata": {},
   "outputs": [
    {
     "name": "stdout",
     "output_type": "stream",
     "text": [
      "Table 2 Vertebrate Mitochondrial, SGC1\n",
      "\n",
      "  |  T      |  C      |  A      |  G      |\n",
      "--+---------+---------+---------+---------+--\n",
      "T | TTT F   | TCT S   | TAT Y   | TGT C   | T\n",
      "T | TTC F   | TCC S   | TAC Y   | TGC C   | C\n",
      "T | TTA L   | TCA S   | TAA Stop| TGA W   | A\n",
      "T | TTG L   | TCG S   | TAG Stop| TGG W   | G\n",
      "--+---------+---------+---------+---------+--\n",
      "C | CTT L   | CCT P   | CAT H   | CGT R   | T\n",
      "C | CTC L   | CCC P   | CAC H   | CGC R   | C\n",
      "C | CTA L   | CCA P   | CAA Q   | CGA R   | A\n",
      "C | CTG L   | CCG P   | CAG Q   | CGG R   | G\n",
      "--+---------+---------+---------+---------+--\n",
      "A | ATT I(s)| ACT T   | AAT N   | AGT S   | T\n",
      "A | ATC I(s)| ACC T   | AAC N   | AGC S   | C\n",
      "A | ATA M(s)| ACA T   | AAA K   | AGA Stop| A\n",
      "A | ATG M(s)| ACG T   | AAG K   | AGG Stop| G\n",
      "--+---------+---------+---------+---------+--\n",
      "G | GTT V   | GCT A   | GAT D   | GGT G   | T\n",
      "G | GTC V   | GCC A   | GAC D   | GGC G   | C\n",
      "G | GTA V   | GCA A   | GAA E   | GGA G   | A\n",
      "G | GTG V(s)| GCG A   | GAG E   | GGG G   | G\n",
      "--+---------+---------+---------+---------+--\n"
     ]
    }
   ],
   "source": [
    "print(CodonTable.unambiguous_dna_by_name[\"Vertebrate Mitochondrial\"]) "
   ]
  },
  {
   "cell_type": "markdown",
   "id": "312c1cd1",
   "metadata": {},
   "source": [
    "### Check `translate_dna` function"
   ]
  },
  {
   "cell_type": "code",
   "execution_count": 6,
   "id": "bf173656",
   "metadata": {},
   "outputs": [
    {
     "data": {
      "text/plain": [
       "'MTNIRKTHPLAKIINSSFIDLPTPSNISAWWNFGSLLGVCLILHILTGLFLAMHYTADTTTAFSSVAHICRDVNYGWVIRYMHANGASMFFICLFMHVGRGLYYGSYLFSETWNIGIILLLTIMATAFMGYVLPWGQMSFWGATVITNLLSAIPYIGTDLVEWIWGGFSVDKATLTRFFAFHFILPFIILALAMVHLLFLHETGSNNPSGISSNSDKIPFHPYYTIKDILGVLLLLLALVTLVLFSPDLLGDPDNYTPANPVSTPLHIKPEWYFLFAYAILRSIPNKLGGVLALIFSILILAIIPLLHTSKQRGMMFRPLSQCLFWLLAADLLTLTWIGGQPVEHPLVIIGQLASILYFTILLVLMPIAGIIENNLSKW'"
      ]
     },
     "execution_count": 6,
     "metadata": {},
     "output_type": "execute_result"
    }
   ],
   "source": [
    "dna_seq = get_sequences_from_file(\"bears_cytb.fasta\")['Tremarctos ornatus'] # get the DNA seq of Tremarctos ornatus from bears_cytb.fasta file\n",
    "amino_acid_seq = translate_dna(dna_seq)\n",
    "amino_acid_seq"
   ]
  },
  {
   "cell_type": "markdown",
   "id": "d7e99ab2",
   "metadata": {},
   "source": [
    "# 3 \n",
    "* The alternative function, `translate_dna_1`  \n"
   ]
  },
  {
   "cell_type": "code",
   "execution_count": 7,
   "id": "9df710ac",
   "metadata": {},
   "outputs": [],
   "source": [
    "from Bio.Seq import Seq\n",
    "def translate_dna_1(dna_sequence):\n",
    "    dna_seq = Seq(dna_sequence)\n",
    "    protein_seq = dna_seq.translate(table = 2, to_stop = True)\n",
    "    return protein_seq"
   ]
  },
  {
   "cell_type": "markdown",
   "id": "bc15284c",
   "metadata": {},
   "source": [
    "### Check the alternative `translate_dna_1` function "
   ]
  },
  {
   "cell_type": "code",
   "execution_count": 8,
   "id": "cac0c6d9",
   "metadata": {},
   "outputs": [
    {
     "data": {
      "text/plain": [
       "Seq('MTNIRKTHPLAKIINSSFIDLPTPSNISAWWNFGSLLGVCLILHILTGLFLAMH...SKW')"
      ]
     },
     "execution_count": 8,
     "metadata": {},
     "output_type": "execute_result"
    }
   ],
   "source": [
    "translate_dna_1(str(dna_seq))"
   ]
  },
  {
   "cell_type": "markdown",
   "id": "10c0d38f",
   "metadata": {},
   "source": [
    "### Verify the result"
   ]
  },
  {
   "cell_type": "code",
   "execution_count": 9,
   "id": "306d9afc",
   "metadata": {},
   "outputs": [
    {
     "data": {
      "text/plain": [
       "True"
      ]
     },
     "execution_count": 9,
     "metadata": {},
     "output_type": "execute_result"
    }
   ],
   "source": [
    "translate_dna_1(str(dna_seq)) == amino_acid_seq"
   ]
  },
  {
   "cell_type": "markdown",
   "id": "86b5e0a4",
   "metadata": {},
   "source": [
    "# 4 \n",
    "* Calculates the molecular weight of each amino acid sequence\n",
    "* Define the `compute_molecular_weight` function\n",
    "* Using `ProteinAnalysis` and `molecular_weight` function to have the weight of amino acid."
   ]
  },
  {
   "cell_type": "code",
   "execution_count": 10,
   "id": "3d7bde4e",
   "metadata": {},
   "outputs": [],
   "source": [
    "from Bio.SeqUtils.ProtParam import ProteinAnalysis\n",
    "from Bio.SeqUtils import molecular_weight\n",
    "def compute_molecular_weight(aa_seq): \n",
    "    analysis_seq = ProteinAnalysis(aa_seq)\n",
    "    weight = analysis_seq.molecular_weight()\n",
    "    return(weight)"
   ]
  },
  {
   "cell_type": "markdown",
   "id": "4d72a1e8",
   "metadata": {},
   "source": [
    "### Check the `compute_molecular_weight` function "
   ]
  },
  {
   "cell_type": "code",
   "execution_count": 11,
   "id": "13bf3cec",
   "metadata": {},
   "outputs": [
    {
     "data": {
      "text/plain": [
       "42384.82659999999"
      ]
     },
     "execution_count": 11,
     "metadata": {},
     "output_type": "execute_result"
    }
   ],
   "source": [
    "compute_molecular_weight(amino_acid_seq)\n"
   ]
  },
  {
   "cell_type": "markdown",
   "id": "b9ca68e6",
   "metadata": {},
   "source": [
    "# 5 \n",
    "* Calculates the GC-content (proportion of \"G\" and \"C\") of each DNA sequence \n",
    "* Define `gc_content` function\n",
    "* Count the number of missing data in sequence except for ATCG, i.e. n/N\n",
    "* Remove n/N from total number and calculate the GC content"
   ]
  },
  {
   "cell_type": "code",
   "execution_count": 12,
   "id": "4d5a2cda",
   "metadata": {},
   "outputs": [],
   "source": [
    "def gc_content(dna_sequence):\n",
    "    na_bases = dna_sequence.count('n')+dna_sequence.count('N') \n",
    "    gc_percent = float(dna_sequence.count('C')+dna_sequence.count('G'))*100.0/(len(dna_sequence)-na_bases) \n",
    "    return gc_percent"
   ]
  },
  {
   "cell_type": "code",
   "execution_count": 13,
   "id": "1306a234",
   "metadata": {},
   "outputs": [
    {
     "data": {
      "text/plain": [
       "44.3859649122807"
      ]
     },
     "execution_count": 13,
     "metadata": {},
     "output_type": "execute_result"
    }
   ],
   "source": [
    "gc_content(dna_seq)"
   ]
  },
  {
   "cell_type": "markdown",
   "id": "954ed86a",
   "metadata": {},
   "source": [
    "# 6 "
   ]
  },
  {
   "cell_type": "code",
   "execution_count": 14,
   "id": "b7d1ed6f",
   "metadata": {},
   "outputs": [],
   "source": [
    "cytb_seqs = get_sequences_from_file(\"bears_cytb.fasta\") \n",
    "bears_df = pd.read_csv(\"bears_mass.csv\") # Includes only data for body mass \n",
    "species_list = list(bears_df.species)"
   ]
  },
  {
   "cell_type": "code",
   "execution_count": 15,
   "id": "ee6a3b43",
   "metadata": {},
   "outputs": [
    {
     "data": {
      "text/html": [
       "<div>\n",
       "<style scoped>\n",
       "    .dataframe tbody tr th:only-of-type {\n",
       "        vertical-align: middle;\n",
       "    }\n",
       "\n",
       "    .dataframe tbody tr th {\n",
       "        vertical-align: top;\n",
       "    }\n",
       "\n",
       "    .dataframe thead th {\n",
       "        text-align: right;\n",
       "    }\n",
       "</style>\n",
       "<table border=\"1\" class=\"dataframe\">\n",
       "  <thead>\n",
       "    <tr style=\"text-align: right;\">\n",
       "      <th></th>\n",
       "      <th>species</th>\n",
       "      <th>mass</th>\n",
       "    </tr>\n",
       "  </thead>\n",
       "  <tbody>\n",
       "    <tr>\n",
       "      <th>0</th>\n",
       "      <td>Ursus spelaeus</td>\n",
       "      <td>550.800</td>\n",
       "    </tr>\n",
       "    <tr>\n",
       "      <th>1</th>\n",
       "      <td>Ursus arctos</td>\n",
       "      <td>203.500</td>\n",
       "    </tr>\n",
       "    <tr>\n",
       "      <th>2</th>\n",
       "      <td>Ursus thibetanus</td>\n",
       "      <td>99.714</td>\n",
       "    </tr>\n",
       "    <tr>\n",
       "      <th>3</th>\n",
       "      <td>Melursus ursinus</td>\n",
       "      <td>100.030</td>\n",
       "    </tr>\n",
       "    <tr>\n",
       "      <th>4</th>\n",
       "      <td>Ursus americanus</td>\n",
       "      <td>110.560</td>\n",
       "    </tr>\n",
       "    <tr>\n",
       "      <th>5</th>\n",
       "      <td>Helarctos malayanus</td>\n",
       "      <td>47.020</td>\n",
       "    </tr>\n",
       "    <tr>\n",
       "      <th>6</th>\n",
       "      <td>Ailuropoda melanoleuca</td>\n",
       "      <td>118.200</td>\n",
       "    </tr>\n",
       "    <tr>\n",
       "      <th>7</th>\n",
       "      <td>Tremarctos ornatus</td>\n",
       "      <td>140.700</td>\n",
       "    </tr>\n",
       "    <tr>\n",
       "      <th>8</th>\n",
       "      <td>Ursus maritimus</td>\n",
       "      <td>425.100</td>\n",
       "    </tr>\n",
       "  </tbody>\n",
       "</table>\n",
       "</div>"
      ],
      "text/plain": [
       "                  species     mass\n",
       "0          Ursus spelaeus  550.800\n",
       "1            Ursus arctos  203.500\n",
       "2        Ursus thibetanus   99.714\n",
       "3        Melursus ursinus  100.030\n",
       "4        Ursus americanus  110.560\n",
       "5     Helarctos malayanus   47.020\n",
       "6  Ailuropoda melanoleuca  118.200\n",
       "7      Tremarctos ornatus  140.700\n",
       "8         Ursus maritimus  425.100"
      ]
     },
     "execution_count": 15,
     "metadata": {},
     "output_type": "execute_result"
    }
   ],
   "source": [
    "bears_df"
   ]
  },
  {
   "cell_type": "markdown",
   "id": "61cb8197",
   "metadata": {},
   "source": [
    "1. Add two new columns to the bears DataFrame: (1) molecular weight and (2) GC content.\n",
    "2. Set the value to 'NaN' to indicate that these cells are currently empty."
   ]
  },
  {
   "cell_type": "code",
   "execution_count": 16,
   "id": "1ab113b9",
   "metadata": {},
   "outputs": [
    {
     "data": {
      "text/html": [
       "<div>\n",
       "<style scoped>\n",
       "    .dataframe tbody tr th:only-of-type {\n",
       "        vertical-align: middle;\n",
       "    }\n",
       "\n",
       "    .dataframe tbody tr th {\n",
       "        vertical-align: top;\n",
       "    }\n",
       "\n",
       "    .dataframe thead th {\n",
       "        text-align: right;\n",
       "    }\n",
       "</style>\n",
       "<table border=\"1\" class=\"dataframe\">\n",
       "  <thead>\n",
       "    <tr style=\"text-align: right;\">\n",
       "      <th></th>\n",
       "      <th>species</th>\n",
       "      <th>mass</th>\n",
       "      <th>molecular_weight</th>\n",
       "      <th>GC_content</th>\n",
       "    </tr>\n",
       "  </thead>\n",
       "  <tbody>\n",
       "    <tr>\n",
       "      <th>0</th>\n",
       "      <td>Ursus spelaeus</td>\n",
       "      <td>550.800</td>\n",
       "      <td>NaN</td>\n",
       "      <td>NaN</td>\n",
       "    </tr>\n",
       "    <tr>\n",
       "      <th>1</th>\n",
       "      <td>Ursus arctos</td>\n",
       "      <td>203.500</td>\n",
       "      <td>NaN</td>\n",
       "      <td>NaN</td>\n",
       "    </tr>\n",
       "    <tr>\n",
       "      <th>2</th>\n",
       "      <td>Ursus thibetanus</td>\n",
       "      <td>99.714</td>\n",
       "      <td>NaN</td>\n",
       "      <td>NaN</td>\n",
       "    </tr>\n",
       "    <tr>\n",
       "      <th>3</th>\n",
       "      <td>Melursus ursinus</td>\n",
       "      <td>100.030</td>\n",
       "      <td>NaN</td>\n",
       "      <td>NaN</td>\n",
       "    </tr>\n",
       "    <tr>\n",
       "      <th>4</th>\n",
       "      <td>Ursus americanus</td>\n",
       "      <td>110.560</td>\n",
       "      <td>NaN</td>\n",
       "      <td>NaN</td>\n",
       "    </tr>\n",
       "    <tr>\n",
       "      <th>5</th>\n",
       "      <td>Helarctos malayanus</td>\n",
       "      <td>47.020</td>\n",
       "      <td>NaN</td>\n",
       "      <td>NaN</td>\n",
       "    </tr>\n",
       "    <tr>\n",
       "      <th>6</th>\n",
       "      <td>Ailuropoda melanoleuca</td>\n",
       "      <td>118.200</td>\n",
       "      <td>NaN</td>\n",
       "      <td>NaN</td>\n",
       "    </tr>\n",
       "    <tr>\n",
       "      <th>7</th>\n",
       "      <td>Tremarctos ornatus</td>\n",
       "      <td>140.700</td>\n",
       "      <td>NaN</td>\n",
       "      <td>NaN</td>\n",
       "    </tr>\n",
       "    <tr>\n",
       "      <th>8</th>\n",
       "      <td>Ursus maritimus</td>\n",
       "      <td>425.100</td>\n",
       "      <td>NaN</td>\n",
       "      <td>NaN</td>\n",
       "    </tr>\n",
       "  </tbody>\n",
       "</table>\n",
       "</div>"
      ],
      "text/plain": [
       "                  species     mass molecular_weight GC_content\n",
       "0          Ursus spelaeus  550.800              NaN        NaN\n",
       "1            Ursus arctos  203.500              NaN        NaN\n",
       "2        Ursus thibetanus   99.714              NaN        NaN\n",
       "3        Melursus ursinus  100.030              NaN        NaN\n",
       "4        Ursus americanus  110.560              NaN        NaN\n",
       "5     Helarctos malayanus   47.020              NaN        NaN\n",
       "6  Ailuropoda melanoleuca  118.200              NaN        NaN\n",
       "7      Tremarctos ornatus  140.700              NaN        NaN\n",
       "8         Ursus maritimus  425.100              NaN        NaN"
      ]
     },
     "execution_count": 16,
     "metadata": {},
     "output_type": "execute_result"
    }
   ],
   "source": [
    "bears_df['molecular_weight'] = 'NaN' \n",
    "bears_df['GC_content'] = 'NaN' \n",
    "bears_df"
   ]
  },
  {
   "cell_type": "markdown",
   "id": "e182e7c7",
   "metadata": {},
   "source": [
    "# 7 \n",
    "* Write a for-loop that translates each sequence and also gets molecular weight and computes the GC content of each translated sequence and adds those data to DataFrame"
   ]
  },
  {
   "cell_type": "code",
   "execution_count": 17,
   "id": "eb58cf09",
   "metadata": {},
   "outputs": [
    {
     "data": {
      "text/plain": [
       "dict_items([('Ursus spelaeus', Seq('ATGACCAACATCCGAAAAACCCATCCATTAGCTAAAATCATCAACAACTCATTT...AGA')), ('Ursus arctos', Seq('ATGACCAACATCCGAAAAACCCACCCATTAGCTAAAATCATCAACAACTCACTT...AGA')), ('Ursus thibetanus', Seq('ATGACCAACATCCGAAAAACCCATCCATTAGCCAAAATCATCAACAACTCACTC...AGA')), ('Melursus ursinus', Seq('ATGACCAACATCCGAAAAACCCACCCATTAGCTAAAATCATTAACAACTCACTC...AGA')), ('Ursus americanus', Seq('ATGACCAACATCCGAAAAACCCACCCATTAGCTAAAATCATCAACAACTCACTT...AGA')), ('Helarctos malayanus', Seq('ATGACCAACATCCGAAAAACCCACCCATTAGCTAAAATCATTAACAACTCACTT...AGA')), ('Ailuropoda melanoleuca', Seq('ATGATCAACATCCGAAAAACTCATCCATTAGTTAAAATTATCAACAACTCATTC...AGA')), ('Tremarctos ornatus', Seq('ATGACCAACATCCGAAAAACTCACCCACTAGCTAAAATCATCAACAGCTCATTC...AGA')), ('Ursus maritimus', Seq('ATGACCAACATCCGAAAAACCCACCCATTAGCTAAAATCATCAACAACTCATTT...AGA'))])"
      ]
     },
     "execution_count": 17,
     "metadata": {},
     "output_type": "execute_result"
    }
   ],
   "source": [
    "cytb_seqs\n",
    "cytb_seqs.items()"
   ]
  },
  {
   "cell_type": "code",
   "execution_count": 18,
   "id": "2e83d3b1",
   "metadata": {},
   "outputs": [
    {
     "data": {
      "text/html": [
       "<div>\n",
       "<style scoped>\n",
       "    .dataframe tbody tr th:only-of-type {\n",
       "        vertical-align: middle;\n",
       "    }\n",
       "\n",
       "    .dataframe tbody tr th {\n",
       "        vertical-align: top;\n",
       "    }\n",
       "\n",
       "    .dataframe thead th {\n",
       "        text-align: right;\n",
       "    }\n",
       "</style>\n",
       "<table border=\"1\" class=\"dataframe\">\n",
       "  <thead>\n",
       "    <tr style=\"text-align: right;\">\n",
       "      <th></th>\n",
       "      <th>species</th>\n",
       "      <th>mass</th>\n",
       "      <th>molecular_weight</th>\n",
       "      <th>GC_content</th>\n",
       "    </tr>\n",
       "  </thead>\n",
       "  <tbody>\n",
       "    <tr>\n",
       "      <th>0</th>\n",
       "      <td>Ursus spelaeus</td>\n",
       "      <td>550.800</td>\n",
       "      <td>42458.7992</td>\n",
       "      <td>43.77193</td>\n",
       "    </tr>\n",
       "    <tr>\n",
       "      <th>1</th>\n",
       "      <td>Ursus arctos</td>\n",
       "      <td>203.500</td>\n",
       "      <td>42414.7435</td>\n",
       "      <td>43.77193</td>\n",
       "    </tr>\n",
       "    <tr>\n",
       "      <th>2</th>\n",
       "      <td>Ursus thibetanus</td>\n",
       "      <td>99.714</td>\n",
       "      <td>42306.6735</td>\n",
       "      <td>45.614035</td>\n",
       "    </tr>\n",
       "    <tr>\n",
       "      <th>3</th>\n",
       "      <td>Melursus ursinus</td>\n",
       "      <td>100.030</td>\n",
       "      <td>42551.99</td>\n",
       "      <td>45.175439</td>\n",
       "    </tr>\n",
       "    <tr>\n",
       "      <th>4</th>\n",
       "      <td>Ursus americanus</td>\n",
       "      <td>110.560</td>\n",
       "      <td>42427.7439</td>\n",
       "      <td>43.947368</td>\n",
       "    </tr>\n",
       "    <tr>\n",
       "      <th>5</th>\n",
       "      <td>Helarctos malayanus</td>\n",
       "      <td>47.020</td>\n",
       "      <td>42560.891</td>\n",
       "      <td>44.298246</td>\n",
       "    </tr>\n",
       "    <tr>\n",
       "      <th>6</th>\n",
       "      <td>Ailuropoda melanoleuca</td>\n",
       "      <td>118.200</td>\n",
       "      <td>42702.1845</td>\n",
       "      <td>40.789474</td>\n",
       "    </tr>\n",
       "    <tr>\n",
       "      <th>7</th>\n",
       "      <td>Tremarctos ornatus</td>\n",
       "      <td>140.700</td>\n",
       "      <td>42384.8266</td>\n",
       "      <td>44.385965</td>\n",
       "    </tr>\n",
       "    <tr>\n",
       "      <th>8</th>\n",
       "      <td>Ursus maritimus</td>\n",
       "      <td>425.100</td>\n",
       "      <td>42454.7873</td>\n",
       "      <td>44.298246</td>\n",
       "    </tr>\n",
       "  </tbody>\n",
       "</table>\n",
       "</div>"
      ],
      "text/plain": [
       "                  species     mass molecular_weight GC_content\n",
       "0          Ursus spelaeus  550.800       42458.7992   43.77193\n",
       "1            Ursus arctos  203.500       42414.7435   43.77193\n",
       "2        Ursus thibetanus   99.714       42306.6735  45.614035\n",
       "3        Melursus ursinus  100.030         42551.99  45.175439\n",
       "4        Ursus americanus  110.560       42427.7439  43.947368\n",
       "5     Helarctos malayanus   47.020        42560.891  44.298246\n",
       "6  Ailuropoda melanoleuca  118.200       42702.1845  40.789474\n",
       "7      Tremarctos ornatus  140.700       42384.8266  44.385965\n",
       "8         Ursus maritimus  425.100       42454.7873  44.298246"
      ]
     },
     "execution_count": 18,
     "metadata": {},
     "output_type": "execute_result"
    }
   ],
   "source": [
    "row = 0 #set row as 0, which means we'll do the loop later to fill the dataframe from row(0)\n",
    "for key,value in cytb_seqs.items():\n",
    "    aa_seq = translate_dna(str(value)) #translate each sequence into amino acid string\n",
    "    molecular_weight = compute_molecular_weight(aa_seq) # compute the molecular_weight with our defined function\n",
    "    GC_content = gc_content(str(value)) #compute the GC_content with our defined function\n",
    "    bears_df.at[row, 'GC_content'] = GC_content #put value into cells in column named \"GC_content\" in the row(i)\n",
    "    bears_df.at[row, 'molecular_weight'] = molecular_weight\n",
    "    row +=1 #go to the next row\n",
    "bears_df #Checks the df to make sure the data was entered properly"
   ]
  },
  {
   "cell_type": "markdown",
   "id": "24f10b11",
   "metadata": {},
   "source": [
    "# 8 \n",
    "* Plot a bar-chart of the mass with the x-axes labeled with species names."
   ]
  },
  {
   "cell_type": "code",
   "execution_count": 19,
   "id": "4b764b9c",
   "metadata": {},
   "outputs": [
    {
     "data": {
      "text/plain": [
       "Text(0.5, 1.0, ' Mass vs bear species')"
      ]
     },
     "execution_count": 19,
     "metadata": {},
     "output_type": "execute_result"
    },
    {
     "data": {
      "image/png": "[encoded data removed]",
      "text/plain": [
       "<Figure size 432x288 with 1 Axes>"
      ]
     },
     "metadata": {
      "needs_background": "light"
     },
     "output_type": "display_data"
    }
   ],
   "source": [
    "import seaborn as sns # plotting barplot by seaborn\n",
    "Fig1 = sns.barplot(x = 'species', y= 'mass', data = bears_df) \n",
    "Fig1.set_xticklabels(labels = bears_df.species, rotation= 60,)\n",
    "Fig1.set_title(' Mass vs bear species')"
   ]
  },
  {
   "cell_type": "markdown",
   "id": "b3f829c1",
   "metadata": {},
   "source": [
    "### *Q1*: What is the largest bear species? \n",
    "### *A1*: The bear specie, *Ursus spelaeus*,  has the laargest mass.\n",
    "### *Q2*: What else is interesting about this species?\n",
    "### *A2*:  *Ursus spelaeus* is 10 times bigger than *Hekarctos malayanus*"
   ]
  },
  {
   "cell_type": "markdown",
   "id": "55da3ce2",
   "metadata": {},
   "source": [
    "# 9 \n",
    "* Plot a visualization of the molecular weight (y-axis) as a function of GC-content (x-axis).\n"
   ]
  },
  {
   "cell_type": "code",
   "execution_count": 21,
   "id": "c5f78e3d",
   "metadata": {},
   "outputs": [
    {
     "name": "stderr",
     "output_type": "stream",
     "text": [
      "C:\\Users\\yuru0\\anaconda3\\lib\\site-packages\\seaborn\\_decorators.py:36: FutureWarning: Pass the following variables as keyword args: x, y. From version 0.12, the only valid positional argument will be `data`, and passing other arguments without an explicit keyword will result in an error or misinterpretation.\n",
      "  warnings.warn(\n"
     ]
    },
    {
     "data": {
      "text/plain": [
       "<seaborn.axisgrid.FacetGrid at 0x26d3d2685b0>"
      ]
     },
     "execution_count": 21,
     "metadata": {},
     "output_type": "execute_result"
    },
    {
     "data": {
      "image/png": "[encoded data removed]",
      "text/plain": [
       "<Figure size 588.875x288 with 1 Axes>"
      ]
     },
     "metadata": {
      "needs_background": "light"
     },
     "output_type": "display_data"
    }
   ],
   "source": [
    "sns.lmplot(\"GC_content\", \"molecular_weight\", data=bears_df, fit_reg=False, height=4,aspect=1.5, scatter_kws={'alpha':0.8,\"s\": 50}, hue='species', markers='D')"
   ]
  },
  {
   "cell_type": "markdown",
   "id": "58a1d63c",
   "metadata": {},
   "source": [
    "# 10 \n",
    "* Save the new DataFrame to a file called \"bears_mass_cytb.csv\""
   ]
  },
  {
   "cell_type": "code",
   "execution_count": 24,
   "id": "7c77be74",
   "metadata": {},
   "outputs": [
    {
     "data": {
      "text/html": [
       "<div>\n",
       "<style scoped>\n",
       "    .dataframe tbody tr th:only-of-type {\n",
       "        vertical-align: middle;\n",
       "    }\n",
       "\n",
       "    .dataframe tbody tr th {\n",
       "        vertical-align: top;\n",
       "    }\n",
       "\n",
       "    .dataframe thead th {\n",
       "        text-align: right;\n",
       "    }\n",
       "</style>\n",
       "<table border=\"1\" class=\"dataframe\">\n",
       "  <thead>\n",
       "    <tr style=\"text-align: right;\">\n",
       "      <th></th>\n",
       "      <th>species</th>\n",
       "      <th>mass</th>\n",
       "      <th>molecular_weight</th>\n",
       "      <th>GC_content</th>\n",
       "    </tr>\n",
       "  </thead>\n",
       "  <tbody>\n",
       "    <tr>\n",
       "      <th>0</th>\n",
       "      <td>Ursus spelaeus</td>\n",
       "      <td>550.800</td>\n",
       "      <td>42458.7992</td>\n",
       "      <td>43.771930</td>\n",
       "    </tr>\n",
       "    <tr>\n",
       "      <th>1</th>\n",
       "      <td>Ursus arctos</td>\n",
       "      <td>203.500</td>\n",
       "      <td>42414.7435</td>\n",
       "      <td>43.771930</td>\n",
       "    </tr>\n",
       "    <tr>\n",
       "      <th>2</th>\n",
       "      <td>Ursus thibetanus</td>\n",
       "      <td>99.714</td>\n",
       "      <td>42306.6735</td>\n",
       "      <td>45.614035</td>\n",
       "    </tr>\n",
       "    <tr>\n",
       "      <th>3</th>\n",
       "      <td>Melursus ursinus</td>\n",
       "      <td>100.030</td>\n",
       "      <td>42551.9900</td>\n",
       "      <td>45.175439</td>\n",
       "    </tr>\n",
       "    <tr>\n",
       "      <th>4</th>\n",
       "      <td>Ursus americanus</td>\n",
       "      <td>110.560</td>\n",
       "      <td>42427.7439</td>\n",
       "      <td>43.947368</td>\n",
       "    </tr>\n",
       "    <tr>\n",
       "      <th>5</th>\n",
       "      <td>Helarctos malayanus</td>\n",
       "      <td>47.020</td>\n",
       "      <td>42560.8910</td>\n",
       "      <td>44.298246</td>\n",
       "    </tr>\n",
       "    <tr>\n",
       "      <th>6</th>\n",
       "      <td>Ailuropoda melanoleuca</td>\n",
       "      <td>118.200</td>\n",
       "      <td>42702.1845</td>\n",
       "      <td>40.789474</td>\n",
       "    </tr>\n",
       "    <tr>\n",
       "      <th>7</th>\n",
       "      <td>Tremarctos ornatus</td>\n",
       "      <td>140.700</td>\n",
       "      <td>42384.8266</td>\n",
       "      <td>44.385965</td>\n",
       "    </tr>\n",
       "    <tr>\n",
       "      <th>8</th>\n",
       "      <td>Ursus maritimus</td>\n",
       "      <td>425.100</td>\n",
       "      <td>42454.7873</td>\n",
       "      <td>44.298246</td>\n",
       "    </tr>\n",
       "  </tbody>\n",
       "</table>\n",
       "</div>"
      ],
      "text/plain": [
       "                  species     mass  molecular_weight  GC_content\n",
       "0          Ursus spelaeus  550.800        42458.7992   43.771930\n",
       "1            Ursus arctos  203.500        42414.7435   43.771930\n",
       "2        Ursus thibetanus   99.714        42306.6735   45.614035\n",
       "3        Melursus ursinus  100.030        42551.9900   45.175439\n",
       "4        Ursus americanus  110.560        42427.7439   43.947368\n",
       "5     Helarctos malayanus   47.020        42560.8910   44.298246\n",
       "6  Ailuropoda melanoleuca  118.200        42702.1845   40.789474\n",
       "7      Tremarctos ornatus  140.700        42384.8266   44.385965\n",
       "8         Ursus maritimus  425.100        42454.7873   44.298246"
      ]
     },
     "execution_count": 24,
     "metadata": {},
     "output_type": "execute_result"
    }
   ],
   "source": [
    "bears_df.to_csv('bears_mass_cytb.csv', sep=',',index=False, encoding='utf-8', )\n",
    "bears = pd.read_csv('bears_mass_cytb.csv') \n",
    "bears"
   ]
  },
  {
   "cell_type": "markdown",
   "id": "8e1c468c",
   "metadata": {},
   "source": [
    "## 11 - BONUS ##\n",
    "## What else can we do with this dataset in Python? \n",
    "## Add functions or anything that might be interesting and fun. (optional)"
   ]
  },
  {
   "cell_type": "code",
   "execution_count": null,
   "id": "9ce452c5",
   "metadata": {},
   "outputs": [],
   "source": []
  }
 ],
 "metadata": {
  "kernelspec": {
   "display_name": "Python 3",
   "language": "python",
   "name": "python3"
  },
  "language_info": {
   "codemirror_mode": {
    "name": "ipython",
    "version": 3
   },
   "file_extension": ".py",
   "mimetype": "text/x-python",
   "name": "python",
   "nbconvert_exporter": "python",
   "pygments_lexer": "ipython3",
   "version": "3.8.8"
  }
 },
 "nbformat": 4,
 "nbformat_minor": 5
}
